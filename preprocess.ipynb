{
 "cells": [
  {
   "cell_type": "code",
   "execution_count": 1,
   "metadata": {},
   "outputs": [],
   "source": [
    "import pandas as pd"
   ]
  },
  {
   "cell_type": "code",
   "execution_count": 2,
   "metadata": {},
   "outputs": [],
   "source": [
    "df_click = pd.read_csv('Datasets/clickstream-enwiki-2020-01.tsv', delimiter='\\t', encoding='utf-8', names=['referer', 'resource', 'path', 'count'])"
   ]
  },
  {
   "cell_type": "code",
   "execution_count": 3,
   "metadata": {},
   "outputs": [
    {
     "data": {
      "text/html": [
       "<div>\n",
       "<style scoped>\n",
       "    .dataframe tbody tr th:only-of-type {\n",
       "        vertical-align: middle;\n",
       "    }\n",
       "\n",
       "    .dataframe tbody tr th {\n",
       "        vertical-align: top;\n",
       "    }\n",
       "\n",
       "    .dataframe thead th {\n",
       "        text-align: right;\n",
       "    }\n",
       "</style>\n",
       "<table border=\"1\" class=\"dataframe\">\n",
       "  <thead>\n",
       "    <tr style=\"text-align: right;\">\n",
       "      <th></th>\n",
       "      <th>referer</th>\n",
       "      <th>resource</th>\n",
       "      <th>path</th>\n",
       "      <th>count</th>\n",
       "    </tr>\n",
       "  </thead>\n",
       "  <tbody>\n",
       "    <tr>\n",
       "      <th>0</th>\n",
       "      <td>Eddie_Albert</td>\n",
       "      <td>The_Dude_Goes_West</td>\n",
       "      <td>link</td>\n",
       "      <td>17</td>\n",
       "    </tr>\n",
       "    <tr>\n",
       "      <th>1</th>\n",
       "      <td>other-empty</td>\n",
       "      <td>The_Dude_Goes_West</td>\n",
       "      <td>external</td>\n",
       "      <td>112</td>\n",
       "    </tr>\n",
       "    <tr>\n",
       "      <th>2</th>\n",
       "      <td>Gale_Storm</td>\n",
       "      <td>The_Dude_Goes_West</td>\n",
       "      <td>link</td>\n",
       "      <td>15</td>\n",
       "    </tr>\n",
       "    <tr>\n",
       "      <th>3</th>\n",
       "      <td>other-external</td>\n",
       "      <td>Gianluca_Scamacca</td>\n",
       "      <td>external</td>\n",
       "      <td>18</td>\n",
       "    </tr>\n",
       "    <tr>\n",
       "      <th>4</th>\n",
       "      <td>other-internal</td>\n",
       "      <td>Gianluca_Scamacca</td>\n",
       "      <td>external</td>\n",
       "      <td>111</td>\n",
       "    </tr>\n",
       "    <tr>\n",
       "      <th>5</th>\n",
       "      <td>Ascoli_Calcio_1898_F.C.</td>\n",
       "      <td>Gianluca_Scamacca</td>\n",
       "      <td>link</td>\n",
       "      <td>87</td>\n",
       "    </tr>\n",
       "    <tr>\n",
       "      <th>6</th>\n",
       "      <td>other-empty</td>\n",
       "      <td>Gianluca_Scamacca</td>\n",
       "      <td>external</td>\n",
       "      <td>311</td>\n",
       "    </tr>\n",
       "    <tr>\n",
       "      <th>7</th>\n",
       "      <td>2019–20_Coppa_Italia</td>\n",
       "      <td>Gianluca_Scamacca</td>\n",
       "      <td>link</td>\n",
       "      <td>333</td>\n",
       "    </tr>\n",
       "    <tr>\n",
       "      <th>8</th>\n",
       "      <td>2018_UEFA_European_Under-19_Championship</td>\n",
       "      <td>Gianluca_Scamacca</td>\n",
       "      <td>link</td>\n",
       "      <td>23</td>\n",
       "    </tr>\n",
       "    <tr>\n",
       "      <th>9</th>\n",
       "      <td>other-search</td>\n",
       "      <td>Gianluca_Scamacca</td>\n",
       "      <td>external</td>\n",
       "      <td>2638</td>\n",
       "    </tr>\n",
       "  </tbody>\n",
       "</table>\n",
       "</div>"
      ],
      "text/plain": [
       "                                    referer            resource      path  \\\n",
       "0                              Eddie_Albert  The_Dude_Goes_West      link   \n",
       "1                               other-empty  The_Dude_Goes_West  external   \n",
       "2                                Gale_Storm  The_Dude_Goes_West      link   \n",
       "3                            other-external   Gianluca_Scamacca  external   \n",
       "4                            other-internal   Gianluca_Scamacca  external   \n",
       "5                   Ascoli_Calcio_1898_F.C.   Gianluca_Scamacca      link   \n",
       "6                               other-empty   Gianluca_Scamacca  external   \n",
       "7                      2019–20_Coppa_Italia   Gianluca_Scamacca      link   \n",
       "8  2018_UEFA_European_Under-19_Championship   Gianluca_Scamacca      link   \n",
       "9                              other-search   Gianluca_Scamacca  external   \n",
       "\n",
       "   count  \n",
       "0     17  \n",
       "1    112  \n",
       "2     15  \n",
       "3     18  \n",
       "4    111  \n",
       "5     87  \n",
       "6    311  \n",
       "7    333  \n",
       "8     23  \n",
       "9   2638  "
      ]
     },
     "execution_count": 3,
     "metadata": {},
     "output_type": "execute_result"
    }
   ],
   "source": [
    "df_click.head(10)"
   ]
  },
  {
   "cell_type": "code",
   "execution_count": 4,
   "metadata": {},
   "outputs": [],
   "source": [
    "with open('Datasets/enwiki-20200101-pages-articles-multistream-index1.txt-p10p30302', encoding='utf8') as file:\n",
    "    data_index = file.read()"
   ]
  },
  {
   "cell_type": "code",
   "execution_count": 5,
   "metadata": {},
   "outputs": [],
   "source": [
    "with open('Datasets/enwiki-20200101-pages-articles-multistream1.xml-p10p30302', encoding='utf8') as file:\n",
    "    data_text = file.read()"
   ]
  },
  {
   "cell_type": "code",
   "execution_count": 6,
   "metadata": {},
   "outputs": [
    {
     "name": "stdout",
     "output_type": "stream",
     "text": [
      "615:10:AccessibleComputing\n",
      "615:12:Anarchism\n",
      "615:13:AfghanistanHistory\n",
      "615:14:AfghanistanGeography\n",
      "615:15:AfghanistanPeople\n",
      "615:18:AfghanistanCommunications\n",
      "615:19:AfghanistanTransportations\n",
      "615:20:AfghanistanMilitary\n",
      "615:21:AfghanistanTransnationalIssues\n",
      "615:23:AssistiveTechnology\n",
      "615:24:AmoeboidTax\n"
     ]
    }
   ],
   "source": [
    "print(data_index[:300])"
   ]
  },
  {
   "cell_type": "code",
   "execution_count": 7,
   "metadata": {},
   "outputs": [
    {
     "name": "stdout",
     "output_type": "stream",
     "text": [
      "<mediawiki xmlns=\"http://www.mediawiki.org/xml/export-0.10/\" xmlns:xsi=\"http://www.w3.org/2001/XMLSchema-instance\" xsi:schemaLocation=\"http://www.mediawiki.org/xml/export-0.10/ http://www.mediawiki.org/xml/export-0.10.xsd\" version=\"0.10\" xml:lang=\"en\">\n",
      "  <siteinfo>\n",
      "    <sitename>Wikipedia</sitename>\n",
      "    <dbname>enwiki</dbname>\n",
      "    <base>https://en.wikipedia.org/wiki/Main_Page</base>\n",
      "    <generator>MediaWiki 1.35.0-wmf.11</generator>\n",
      "    <case>first-letter</case>\n",
      "    <namespaces>\n",
      "      <namespace key=\"-2\" case=\"first-letter\">Media</namespace>\n",
      "      <namespace key=\"-1\" case=\"first-letter\">Special</namespace>\n",
      "      <namespace key=\"0\" case=\"first-letter\" />\n",
      "      <namespace key=\"1\" case=\"first-letter\">Talk</namespace>\n",
      "      <namespace key=\"2\" case=\"first-letter\">User</namespace>\n",
      "      <namespace key=\"3\" case=\"first-letter\">User talk</namespace>\n",
      "      <namespace key=\"4\" case=\"first-letter\">Wikipedia</namespace>\n",
      "      <namespace key=\"5\" case=\"first-letter\">Wikipedia talk</namespace>\n",
      "      <n\n"
     ]
    }
   ],
   "source": [
    "print(data_text[:1000])"
   ]
  },
  {
   "cell_type": "code",
   "execution_count": 8,
   "metadata": {},
   "outputs": [],
   "source": [
    "with open('Datasets/pageviews-20200101-000000', encoding='utf8') as file:\n",
    "    data_view = file.read()"
   ]
  },
  {
   "cell_type": "code",
   "execution_count": 12,
   "metadata": {},
   "outputs": [
    {
     "name": "stdout",
     "output_type": "stream",
     "text": [
      "aa Main_Page 8 0\n",
      "aa Special:Log/block 1 0\n",
      "aa User:Teles 1 0\n",
      "aa Wikipedia 1 0\n",
      "aa.b Special:Contributions/Teles 1 0\n",
      "aa.b Special:ListUsers 4 0\n",
      "aa.b Special:Log/block 1 0\n",
      "aa.b User:Sir_Lestaty_de_Lioncourt 2 0\n",
      "aa.d User:Teles 1 0\n",
      "ab 1357 1 0\n",
      "ab 165 1 0\n",
      "ab 1880 1 0\n",
      "ab 1906 1 0\n",
      "ab 1987 1 0\n",
      "ab 2020 1 0\n",
      "ab 242 1 0\n",
      "ab 258 1 0\n",
      "ab 306 1 0\n",
      "ab 331 1 0\n",
      "ab 378 1 0\n",
      "ab 390 1 0\n",
      "ab 450 1 0\n",
      "ab 463 1 0\n",
      "ab 496 1 0\n",
      "ab 76 1 0\n",
      "ab 999 1 0\n",
      "ab Авикипедиа 1 0\n",
      "ab Авикипедиа:Афорум 1 0\n",
      "ab Ажьырныҳәамза_1 1 0\n",
      "ab Ажьырныҳәамза\n"
     ]
    }
   ],
   "source": [
    "print(data_view[:500])"
   ]
  },
  {
   "cell_type": "code",
   "execution_count": null,
   "metadata": {},
   "outputs": [],
   "source": []
  },
  {
   "cell_type": "code",
   "execution_count": null,
   "metadata": {},
   "outputs": [],
   "source": []
  }
 ],
 "metadata": {
  "kernelspec": {
   "display_name": "Python 3",
   "language": "python",
   "name": "python3"
  },
  "language_info": {
   "codemirror_mode": {
    "name": "ipython",
    "version": 3
   },
   "file_extension": ".py",
   "mimetype": "text/x-python",
   "name": "python",
   "nbconvert_exporter": "python",
   "pygments_lexer": "ipython3",
   "version": "3.7.3"
  }
 },
 "nbformat": 4,
 "nbformat_minor": 2
}
